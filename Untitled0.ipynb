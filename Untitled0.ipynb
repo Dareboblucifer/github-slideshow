{
  "nbformat": 4,
  "nbformat_minor": 0,
  "metadata": {
    "colab": {
      "name": "Untitled0.ipynb",
      "provenance": [],
      "collapsed_sections": [],
      "authorship_tag": "ABX9TyMUO3JFyGQeN43gr6mWJUrK",
      "include_colab_link": true
    },
    "kernelspec": {
      "name": "python3",
      "display_name": "Python 3"
    },
    "language_info": {
      "name": "python"
    }
  },
  "cells": [
    {
      "cell_type": "markdown",
      "metadata": {
        "id": "view-in-github",
        "colab_type": "text"
      },
      "source": [
        "<a href=\"https://colab.research.google.com/github/Dareboblucifer/github-slideshow/blob/master/Untitled0.ipynb\" target=\"_parent\"><img src=\"https://colab.research.google.com/assets/colab-badge.svg\" alt=\"Open In Colab\"/></a>"
      ]
    },
    {
      "cell_type": "code",
      "metadata": {
        "colab": {
          "base_uri": "https://localhost:8080/",
          "height": 180
        },
        "id": "SynC2WN2InAM",
        "outputId": "4ef191e9-bb7e-4f3e-9ed0-cb6becc4ddc4"
      },
      "source": [
        "print(x\n",
        "    )"
      ],
      "execution_count": 1,
      "outputs": [
        {
          "output_type": "error",
          "ename": "NameError",
          "evalue": "ignored",
          "traceback": [
            "\u001b[0;31m---------------------------------------------------------------------------\u001b[0m",
            "\u001b[0;31mNameError\u001b[0m                                 Traceback (most recent call last)",
            "\u001b[0;32m<ipython-input-1-ba6da07ecd53>\u001b[0m in \u001b[0;36m<module>\u001b[0;34m()\u001b[0m\n\u001b[0;32m----> 1\u001b[0;31m print(x\n\u001b[0m\u001b[1;32m      2\u001b[0m     )\n",
            "\u001b[0;31mNameError\u001b[0m: name 'x' is not defined"
          ]
        }
      ]
    },
    {
      "cell_type": "code",
      "metadata": {
        "colab": {
          "base_uri": "https://localhost:8080/"
        },
        "id": "Ww_xMkTbI0jI",
        "outputId": "7034994e-81b4-4b54-ef77-4b8998359691"
      },
      "source": [
        "print('hello my love ')"
      ],
      "execution_count": 2,
      "outputs": [
        {
          "output_type": "stream",
          "text": [
            "hello my love \n"
          ],
          "name": "stdout"
        }
      ]
    },
    {
      "cell_type": "code",
      "metadata": {
        "colab": {
          "base_uri": "https://localhost:8080/"
        },
        "id": "J3wzxlDhI7MK",
        "outputId": "f74ad04c-fa3f-4214-bc75-0998da4c777e"
      },
      "source": [
        "\n",
        "if score >=80:\n",
        "  #start >=80\n",
        "  grae='A'\n",
        "  #end of >=80\n",
        "else:\n",
        "    if score >=60:\n",
        "       #start >=60\n",
        "       grae='B '\n",
        "       #end of >=60\n",
        "    else:\n",
        "       if score >=40:\n",
        "          #start >=40\n",
        "          grae='C'\n",
        "          #end >=40\n",
        "       else:\n",
        "            grae='E'\n",
        "score=float(input('enter marks obtaine'))           \n",
        "print(grae)       "
      ],
      "execution_count": 21,
      "outputs": [
        {
          "output_type": "stream",
          "text": [
            "enter marks obtaine78\n",
            "B \n"
          ],
          "name": "stdout"
        }
      ]
    },
    {
      "cell_type": "code",
      "metadata": {
        "colab": {
          "base_uri": "https://localhost:8080/"
        },
        "id": "RtMige7IL4xm",
        "outputId": "b69aaa07-d42b-4711-c35f-5c24fdc605d1"
      },
      "source": [
        "tem_celcius=float(input('enter temperature in celcius'))\n",
        "x=tem_celcius\n",
        "convert_temp=x*9/5+32\n",
        "y=convert_temp\n",
        "print(y)"
      ],
      "execution_count": 27,
      "outputs": [
        {
          "output_type": "stream",
          "text": [
            "enter temperature in celcius99\n",
            "210.2\n"
          ],
          "name": "stdout"
        }
      ]
    },
    {
      "cell_type": "code",
      "metadata": {
        "id": "ZAn9pXinMWUq"
      },
      "source": [
        ""
      ],
      "execution_count": null,
      "outputs": []
    }
  ]
}